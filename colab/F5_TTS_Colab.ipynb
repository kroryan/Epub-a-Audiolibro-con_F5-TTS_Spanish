{
 "cells": [
  {
   "cell_type": "markdown",
   "id": "82de7a8e",
   "metadata": {},
   "source": [
    "# F5-TTS (Spanish) - Colab\n",
    "Este notebook instala dependencias, descarga el modelo español (model_1200000) y el vocab, y arranca la aplicación Gradio en Colab.\n",
    "Incluye instrucciones opcionales para tunelado con ngrok o cloudflared (ver `colab/TUNNEL.md`)."
   ]
  },
  {
   "cell_type": "code",
   "execution_count": null,
   "id": "8812a464",
   "metadata": {},
   "outputs": [],
   "source": [
    "# 1) Ajustes básicos y clonación del repositorio\n",
    "!apt -y update && apt -y install ffmpeg git\n",
    "!git clone https://github.com/kroryan/eBook_to_Audiobook_with_F5-TTS.git repo\n",
    "%cd repo"
   ]
  },
  {
   "cell_type": "code",
   "execution_count": null,
   "id": "f4ff0b7d",
   "metadata": {},
   "outputs": [],
   "source": [
    "# 2) Crear y activar entorno y dependencias (usar pip directamente en Colab)\n",
    "!pip install -r requirements.txt\n",
    "!pip install python-magic\n",
    "!pip install torch torchvision torchaudio --index-url https://download.pytorch.org/whl/cu118\n",
    "!pip install torchcodec"
   ]
  },
  {
   "cell_type": "code",
   "execution_count": null,
   "id": "4a8e81d6",
   "metadata": {},
   "outputs": [],
   "source": [
    "# 3) Descargar el modelo y vocab (usa HF token si es privado)\n",
    "!mkdir -p model_cache && cd model_cache\n",
    "!wget -O model_1200000.safetensors https://huggingface.co/jpgallegoar/F5-Spanish/resolve/main/model_1200000.safetensors\n",
    "!wget -O ../spanish_vocab.txt https://huggingface.co/jpgallegoar/F5-Spanish/resolve/main/vocab.txt\n",
    "%cd .."
   ]
  },
  {
   "cell_type": "code",
   "execution_count": null,
   "id": "e8992340",
   "metadata": {},
   "outputs": [],
   "source": [
    "# 4) Arrancar la app (en background)\n",
    "# Nota: en Colab se recomienda usar 'nohup' y tunel separadamente (ngrok/cloudflared).\n",
    "!nohup python app.py &> app_log.txt &\n",
    "!sleep 8\n",
    "!tail -n 200 app_log.txt"
   ]
  }
 ],
 "metadata": {
  "language_info": {
   "name": "python"
  }
 },
 "nbformat": 4,
 "nbformat_minor": 5
}
